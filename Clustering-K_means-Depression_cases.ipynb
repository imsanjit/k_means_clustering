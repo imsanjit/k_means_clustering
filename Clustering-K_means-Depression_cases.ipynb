{
 "cells": [
  {
   "cell_type": "code",
   "execution_count": 13,
   "metadata": {},
   "outputs": [],
   "source": [
    "import pandas as pd\n",
    "from sklearn.model_selection import train_test_split\n",
    "from sklearn.cluster import KMeans\n",
    "import matplotlib.pyplot as plt\n",
    "%matplotlib inline\n",
    "from sklearn import metrics"
   ]
  },
  {
   "cell_type": "code",
   "execution_count": 3,
   "metadata": {},
   "outputs": [
    {
     "data": {
      "text/html": [
       "<div>\n",
       "<style scoped>\n",
       "    .dataframe tbody tr th:only-of-type {\n",
       "        vertical-align: middle;\n",
       "    }\n",
       "\n",
       "    .dataframe tbody tr th {\n",
       "        vertical-align: top;\n",
       "    }\n",
       "\n",
       "    .dataframe thead th {\n",
       "        text-align: right;\n",
       "    }\n",
       "</style>\n",
       "<table border=\"1\" class=\"dataframe\">\n",
       "  <thead>\n",
       "    <tr style=\"text-align: right;\">\n",
       "      <th></th>\n",
       "      <th>id</th>\n",
       "      <th>simplicity</th>\n",
       "      <th>fatalism</th>\n",
       "      <th>depression</th>\n",
       "      <th>adjsimp</th>\n",
       "      <th>adjfatal</th>\n",
       "      <th>adjdep</th>\n",
       "    </tr>\n",
       "  </thead>\n",
       "  <tbody>\n",
       "    <tr>\n",
       "      <td>0</td>\n",
       "      <td>1</td>\n",
       "      <td>0.92983</td>\n",
       "      <td>0.35589</td>\n",
       "      <td>0.59870</td>\n",
       "      <td>0.75934</td>\n",
       "      <td>0.10673</td>\n",
       "      <td>0.41865</td>\n",
       "    </tr>\n",
       "    <tr>\n",
       "      <td>1</td>\n",
       "      <td>2</td>\n",
       "      <td>0.91097</td>\n",
       "      <td>1.18439</td>\n",
       "      <td>0.72787</td>\n",
       "      <td>0.72717</td>\n",
       "      <td>0.99915</td>\n",
       "      <td>0.51688</td>\n",
       "    </tr>\n",
       "    <tr>\n",
       "      <td>2</td>\n",
       "      <td>3</td>\n",
       "      <td>0.53366</td>\n",
       "      <td>-0.05837</td>\n",
       "      <td>0.53411</td>\n",
       "      <td>0.62176</td>\n",
       "      <td>0.03811</td>\n",
       "      <td>0.70699</td>\n",
       "    </tr>\n",
       "    <tr>\n",
       "      <td>3</td>\n",
       "      <td>4</td>\n",
       "      <td>0.74118</td>\n",
       "      <td>0.35589</td>\n",
       "      <td>0.56641</td>\n",
       "      <td>0.83522</td>\n",
       "      <td>0.42218</td>\n",
       "      <td>0.65639</td>\n",
       "    </tr>\n",
       "    <tr>\n",
       "      <td>4</td>\n",
       "      <td>5</td>\n",
       "      <td>0.53366</td>\n",
       "      <td>0.77014</td>\n",
       "      <td>0.50182</td>\n",
       "      <td>0.47697</td>\n",
       "      <td>0.81423</td>\n",
       "      <td>0.53518</td>\n",
       "    </tr>\n",
       "  </tbody>\n",
       "</table>\n",
       "</div>"
      ],
      "text/plain": [
       "   id  simplicity  fatalism  depression  adjsimp  adjfatal   adjdep\n",
       "0   1     0.92983   0.35589     0.59870  0.75934   0.10673  0.41865\n",
       "1   2     0.91097   1.18439     0.72787  0.72717   0.99915  0.51688\n",
       "2   3     0.53366  -0.05837     0.53411  0.62176   0.03811  0.70699\n",
       "3   4     0.74118   0.35589     0.56641  0.83522   0.42218  0.65639\n",
       "4   5     0.53366   0.77014     0.50182  0.47697   0.81423  0.53518"
      ]
     },
     "execution_count": 3,
     "metadata": {},
     "output_type": "execute_result"
    }
   ],
   "source": [
    "myData = pd.read_csv(\"Depression.csv\")\n",
    "myData.head()"
   ]
  },
  {
   "cell_type": "code",
   "execution_count": 4,
   "metadata": {},
   "outputs": [],
   "source": [
    "myData.drop('id', axis=1, inplace=True)"
   ]
  },
  {
   "cell_type": "code",
   "execution_count": 5,
   "metadata": {},
   "outputs": [
    {
     "name": "stdout",
     "output_type": "stream",
     "text": [
      "<class 'pandas.core.frame.DataFrame'>\n",
      "RangeIndex: 82 entries, 0 to 81\n",
      "Data columns (total 6 columns):\n",
      "simplicity    82 non-null float64\n",
      "fatalism      82 non-null float64\n",
      "depression    82 non-null float64\n",
      "adjsimp       82 non-null float64\n",
      "adjfatal      82 non-null float64\n",
      "adjdep        82 non-null float64\n",
      "dtypes: float64(6)\n",
      "memory usage: 4.0 KB\n"
     ]
    }
   ],
   "source": [
    "myData.info()"
   ]
  },
  {
   "cell_type": "code",
   "execution_count": 6,
   "metadata": {},
   "outputs": [
    {
     "data": {
      "text/plain": [
       "simplicity    0\n",
       "fatalism      0\n",
       "depression    0\n",
       "adjsimp       0\n",
       "adjfatal      0\n",
       "adjdep        0\n",
       "dtype: int64"
      ]
     },
     "execution_count": 6,
     "metadata": {},
     "output_type": "execute_result"
    }
   ],
   "source": [
    "myData.isna().sum()"
   ]
  },
  {
   "cell_type": "code",
   "execution_count": 9,
   "metadata": {},
   "outputs": [
    {
     "data": {
      "text/html": [
       "<div>\n",
       "<style scoped>\n",
       "    .dataframe tbody tr th:only-of-type {\n",
       "        vertical-align: middle;\n",
       "    }\n",
       "\n",
       "    .dataframe tbody tr th {\n",
       "        vertical-align: top;\n",
       "    }\n",
       "\n",
       "    .dataframe thead th {\n",
       "        text-align: right;\n",
       "    }\n",
       "</style>\n",
       "<table border=\"1\" class=\"dataframe\">\n",
       "  <thead>\n",
       "    <tr style=\"text-align: right;\">\n",
       "      <th></th>\n",
       "      <th>count</th>\n",
       "      <th>mean</th>\n",
       "      <th>std</th>\n",
       "      <th>min</th>\n",
       "      <th>25%</th>\n",
       "      <th>50%</th>\n",
       "      <th>75%</th>\n",
       "      <th>max</th>\n",
       "    </tr>\n",
       "  </thead>\n",
       "  <tbody>\n",
       "    <tr>\n",
       "      <td>simplicity</td>\n",
       "      <td>82.0</td>\n",
       "      <td>1.000000</td>\n",
       "      <td>0.500000</td>\n",
       "      <td>0.25068</td>\n",
       "      <td>0.656282</td>\n",
       "      <td>0.882665</td>\n",
       "      <td>1.26940</td>\n",
       "      <td>2.85408</td>\n",
       "    </tr>\n",
       "    <tr>\n",
       "      <td>fatalism</td>\n",
       "      <td>82.0</td>\n",
       "      <td>1.000000</td>\n",
       "      <td>0.500001</td>\n",
       "      <td>-0.05837</td>\n",
       "      <td>0.563010</td>\n",
       "      <td>0.977270</td>\n",
       "      <td>1.39152</td>\n",
       "      <td>2.22003</td>\n",
       "    </tr>\n",
       "    <tr>\n",
       "      <td>depression</td>\n",
       "      <td>82.0</td>\n",
       "      <td>1.000001</td>\n",
       "      <td>0.500000</td>\n",
       "      <td>0.46953</td>\n",
       "      <td>0.566410</td>\n",
       "      <td>0.824750</td>\n",
       "      <td>1.37373</td>\n",
       "      <td>2.24565</td>\n",
       "    </tr>\n",
       "    <tr>\n",
       "      <td>adjsimp</td>\n",
       "      <td>82.0</td>\n",
       "      <td>1.000000</td>\n",
       "      <td>0.499999</td>\n",
       "      <td>0.23569</td>\n",
       "      <td>0.697958</td>\n",
       "      <td>0.968490</td>\n",
       "      <td>1.20179</td>\n",
       "      <td>2.94977</td>\n",
       "    </tr>\n",
       "    <tr>\n",
       "      <td>adjfatal</td>\n",
       "      <td>82.0</td>\n",
       "      <td>1.000000</td>\n",
       "      <td>0.500000</td>\n",
       "      <td>0.03012</td>\n",
       "      <td>0.731598</td>\n",
       "      <td>0.924290</td>\n",
       "      <td>1.29912</td>\n",
       "      <td>2.24931</td>\n",
       "    </tr>\n",
       "    <tr>\n",
       "      <td>adjdep</td>\n",
       "      <td>82.0</td>\n",
       "      <td>1.000000</td>\n",
       "      <td>0.500000</td>\n",
       "      <td>0.23454</td>\n",
       "      <td>0.596565</td>\n",
       "      <td>0.967845</td>\n",
       "      <td>1.26175</td>\n",
       "      <td>2.78763</td>\n",
       "    </tr>\n",
       "  </tbody>\n",
       "</table>\n",
       "</div>"
      ],
      "text/plain": [
       "            count      mean       std      min       25%       50%      75%  \\\n",
       "simplicity   82.0  1.000000  0.500000  0.25068  0.656282  0.882665  1.26940   \n",
       "fatalism     82.0  1.000000  0.500001 -0.05837  0.563010  0.977270  1.39152   \n",
       "depression   82.0  1.000001  0.500000  0.46953  0.566410  0.824750  1.37373   \n",
       "adjsimp      82.0  1.000000  0.499999  0.23569  0.697958  0.968490  1.20179   \n",
       "adjfatal     82.0  1.000000  0.500000  0.03012  0.731598  0.924290  1.29912   \n",
       "adjdep       82.0  1.000000  0.500000  0.23454  0.596565  0.967845  1.26175   \n",
       "\n",
       "                max  \n",
       "simplicity  2.85408  \n",
       "fatalism    2.22003  \n",
       "depression  2.24565  \n",
       "adjsimp     2.94977  \n",
       "adjfatal    2.24931  \n",
       "adjdep      2.78763  "
      ]
     },
     "execution_count": 9,
     "metadata": {},
     "output_type": "execute_result"
    }
   ],
   "source": [
    "myData.describe().T"
   ]
  },
  {
   "cell_type": "code",
   "execution_count": 15,
   "metadata": {},
   "outputs": [],
   "source": [
    "# randomly taking 3 cluster.\n",
    "kmeans = KMeans(n_clusters=3)"
   ]
  },
  {
   "cell_type": "code",
   "execution_count": 16,
   "metadata": {},
   "outputs": [
    {
     "data": {
      "text/plain": [
       "KMeans(algorithm='auto', copy_x=True, init='k-means++', max_iter=300,\n",
       "       n_clusters=3, n_init=10, n_jobs=None, precompute_distances='auto',\n",
       "       random_state=None, tol=0.0001, verbose=0)"
      ]
     },
     "execution_count": 16,
     "metadata": {},
     "output_type": "execute_result"
    }
   ],
   "source": [
    "kmeans.fit(myData)"
   ]
  },
  {
   "cell_type": "code",
   "execution_count": 18,
   "metadata": {},
   "outputs": [
    {
     "data": {
      "text/plain": [
       "array([[0.99880719, 1.15203031, 1.2364875 , 0.9226225 , 1.10705969,\n",
       "        1.2072175 ],\n",
       "       [1.85712923, 1.64644615, 1.69169769, 1.87569692, 1.63098385,\n",
       "        1.67284692],\n",
       "       [0.69987919, 0.64138541, 0.5524427 , 0.75924351, 0.68571027,\n",
       "        0.58437946]])"
      ]
     },
     "execution_count": 18,
     "metadata": {},
     "output_type": "execute_result"
    }
   ],
   "source": [
    "centroids = kmeans.cluster_centers_\n",
    "centroids"
   ]
  },
  {
   "cell_type": "code",
   "execution_count": 22,
   "metadata": {},
   "outputs": [
    {
     "data": {
      "text/html": [
       "<div>\n",
       "<style scoped>\n",
       "    .dataframe tbody tr th:only-of-type {\n",
       "        vertical-align: middle;\n",
       "    }\n",
       "\n",
       "    .dataframe tbody tr th {\n",
       "        vertical-align: top;\n",
       "    }\n",
       "\n",
       "    .dataframe thead th {\n",
       "        text-align: right;\n",
       "    }\n",
       "</style>\n",
       "<table border=\"1\" class=\"dataframe\">\n",
       "  <thead>\n",
       "    <tr style=\"text-align: right;\">\n",
       "      <th></th>\n",
       "      <th>simplicity</th>\n",
       "      <th>fatalism</th>\n",
       "      <th>depression</th>\n",
       "      <th>adjsimp</th>\n",
       "      <th>adjfatal</th>\n",
       "      <th>adjdep</th>\n",
       "    </tr>\n",
       "  </thead>\n",
       "  <tbody>\n",
       "    <tr>\n",
       "      <td>0</td>\n",
       "      <td>0.998807</td>\n",
       "      <td>1.152030</td>\n",
       "      <td>1.236487</td>\n",
       "      <td>0.922623</td>\n",
       "      <td>1.107060</td>\n",
       "      <td>1.207218</td>\n",
       "    </tr>\n",
       "    <tr>\n",
       "      <td>1</td>\n",
       "      <td>1.857129</td>\n",
       "      <td>1.646446</td>\n",
       "      <td>1.691698</td>\n",
       "      <td>1.875697</td>\n",
       "      <td>1.630984</td>\n",
       "      <td>1.672847</td>\n",
       "    </tr>\n",
       "    <tr>\n",
       "      <td>2</td>\n",
       "      <td>0.699879</td>\n",
       "      <td>0.641385</td>\n",
       "      <td>0.552443</td>\n",
       "      <td>0.759244</td>\n",
       "      <td>0.685710</td>\n",
       "      <td>0.584379</td>\n",
       "    </tr>\n",
       "  </tbody>\n",
       "</table>\n",
       "</div>"
      ],
      "text/plain": [
       "   simplicity  fatalism  depression   adjsimp  adjfatal    adjdep\n",
       "0    0.998807  1.152030    1.236487  0.922623  1.107060  1.207218\n",
       "1    1.857129  1.646446    1.691698  1.875697  1.630984  1.672847\n",
       "2    0.699879  0.641385    0.552443  0.759244  0.685710  0.584379"
      ]
     },
     "execution_count": 22,
     "metadata": {},
     "output_type": "execute_result"
    }
   ],
   "source": [
    "centroids_df = pd.DataFrame(centroids, columns = myData.columns)\n",
    "centroids_df\n",
    "# created centroids for each features based on number of cluster. (in this case its 3)"
   ]
  },
  {
   "cell_type": "code",
   "execution_count": 23,
   "metadata": {},
   "outputs": [
    {
     "data": {
      "text/plain": [
       "array([2, 2, 2, 2, 2, 2, 2, 2, 2, 2, 2, 2, 2, 2, 2, 0, 2, 0, 2, 2, 2, 0,\n",
       "       2, 2, 0, 2, 2, 2, 2, 2, 2, 2, 2, 2, 2, 2, 2, 2, 2, 2, 2, 0, 0, 0,\n",
       "       0, 0, 0, 1, 0, 1, 0, 0, 1, 0, 0, 0, 0, 0, 0, 0, 0, 0, 0, 0, 1, 0,\n",
       "       1, 1, 1, 0, 1, 1, 0, 0, 0, 1, 1, 0, 1, 1, 0, 0])"
      ]
     },
     "execution_count": 23,
     "metadata": {},
     "output_type": "execute_result"
    }
   ],
   "source": [
    "kmeans.labels_"
   ]
  },
  {
   "cell_type": "code",
   "execution_count": 26,
   "metadata": {},
   "outputs": [
    {
     "data": {
      "text/html": [
       "<div>\n",
       "<style scoped>\n",
       "    .dataframe tbody tr th:only-of-type {\n",
       "        vertical-align: middle;\n",
       "    }\n",
       "\n",
       "    .dataframe tbody tr th {\n",
       "        vertical-align: top;\n",
       "    }\n",
       "\n",
       "    .dataframe thead th {\n",
       "        text-align: right;\n",
       "    }\n",
       "</style>\n",
       "<table border=\"1\" class=\"dataframe\">\n",
       "  <thead>\n",
       "    <tr style=\"text-align: right;\">\n",
       "      <th></th>\n",
       "      <th>labels</th>\n",
       "    </tr>\n",
       "  </thead>\n",
       "  <tbody>\n",
       "    <tr>\n",
       "      <td>0</td>\n",
       "      <td>2</td>\n",
       "    </tr>\n",
       "    <tr>\n",
       "      <td>1</td>\n",
       "      <td>2</td>\n",
       "    </tr>\n",
       "    <tr>\n",
       "      <td>2</td>\n",
       "      <td>2</td>\n",
       "    </tr>\n",
       "    <tr>\n",
       "      <td>3</td>\n",
       "      <td>2</td>\n",
       "    </tr>\n",
       "    <tr>\n",
       "      <td>4</td>\n",
       "      <td>2</td>\n",
       "    </tr>\n",
       "    <tr>\n",
       "      <td>...</td>\n",
       "      <td>...</td>\n",
       "    </tr>\n",
       "    <tr>\n",
       "      <td>77</td>\n",
       "      <td>0</td>\n",
       "    </tr>\n",
       "    <tr>\n",
       "      <td>78</td>\n",
       "      <td>1</td>\n",
       "    </tr>\n",
       "    <tr>\n",
       "      <td>79</td>\n",
       "      <td>1</td>\n",
       "    </tr>\n",
       "    <tr>\n",
       "      <td>80</td>\n",
       "      <td>0</td>\n",
       "    </tr>\n",
       "    <tr>\n",
       "      <td>81</td>\n",
       "      <td>0</td>\n",
       "    </tr>\n",
       "  </tbody>\n",
       "</table>\n",
       "<p>82 rows × 1 columns</p>\n",
       "</div>"
      ],
      "text/plain": [
       "   labels\n",
       "0       2\n",
       "1       2\n",
       "2       2\n",
       "3       2\n",
       "4       2\n",
       "..    ...\n",
       "77      0\n",
       "78      1\n",
       "79      1\n",
       "80      0\n",
       "81      0\n",
       "\n",
       "[82 rows x 1 columns]"
      ]
     },
     "execution_count": 26,
     "metadata": {},
     "output_type": "execute_result"
    }
   ],
   "source": [
    "# Creating dataset from output/clusters/labels\n",
    "\n",
    "df_labels = pd.DataFrame(kmeans.labels_, columns = ['labels'])\n",
    "df_labels['labels'] = df_labels['labels'].astype('category')\n",
    "\n",
    "df_labels"
   ]
  },
  {
   "cell_type": "code",
   "execution_count": 27,
   "metadata": {},
   "outputs": [
    {
     "data": {
      "text/html": [
       "<div>\n",
       "<style scoped>\n",
       "    .dataframe tbody tr th:only-of-type {\n",
       "        vertical-align: middle;\n",
       "    }\n",
       "\n",
       "    .dataframe tbody tr th {\n",
       "        vertical-align: top;\n",
       "    }\n",
       "\n",
       "    .dataframe thead th {\n",
       "        text-align: right;\n",
       "    }\n",
       "</style>\n",
       "<table border=\"1\" class=\"dataframe\">\n",
       "  <thead>\n",
       "    <tr style=\"text-align: right;\">\n",
       "      <th></th>\n",
       "      <th>simplicity</th>\n",
       "      <th>fatalism</th>\n",
       "      <th>depression</th>\n",
       "      <th>adjsimp</th>\n",
       "      <th>adjfatal</th>\n",
       "      <th>adjdep</th>\n",
       "      <th>labels</th>\n",
       "    </tr>\n",
       "  </thead>\n",
       "  <tbody>\n",
       "    <tr>\n",
       "      <td>0</td>\n",
       "      <td>0.92983</td>\n",
       "      <td>0.35589</td>\n",
       "      <td>0.59870</td>\n",
       "      <td>0.75934</td>\n",
       "      <td>0.10673</td>\n",
       "      <td>0.41865</td>\n",
       "      <td>2</td>\n",
       "    </tr>\n",
       "    <tr>\n",
       "      <td>1</td>\n",
       "      <td>0.91097</td>\n",
       "      <td>1.18439</td>\n",
       "      <td>0.72787</td>\n",
       "      <td>0.72717</td>\n",
       "      <td>0.99915</td>\n",
       "      <td>0.51688</td>\n",
       "      <td>2</td>\n",
       "    </tr>\n",
       "    <tr>\n",
       "      <td>2</td>\n",
       "      <td>0.53366</td>\n",
       "      <td>-0.05837</td>\n",
       "      <td>0.53411</td>\n",
       "      <td>0.62176</td>\n",
       "      <td>0.03811</td>\n",
       "      <td>0.70699</td>\n",
       "      <td>2</td>\n",
       "    </tr>\n",
       "    <tr>\n",
       "      <td>3</td>\n",
       "      <td>0.74118</td>\n",
       "      <td>0.35589</td>\n",
       "      <td>0.56641</td>\n",
       "      <td>0.83522</td>\n",
       "      <td>0.42218</td>\n",
       "      <td>0.65639</td>\n",
       "      <td>2</td>\n",
       "    </tr>\n",
       "    <tr>\n",
       "      <td>4</td>\n",
       "      <td>0.53366</td>\n",
       "      <td>0.77014</td>\n",
       "      <td>0.50182</td>\n",
       "      <td>0.47697</td>\n",
       "      <td>0.81423</td>\n",
       "      <td>0.53518</td>\n",
       "      <td>2</td>\n",
       "    </tr>\n",
       "    <tr>\n",
       "      <td>...</td>\n",
       "      <td>...</td>\n",
       "      <td>...</td>\n",
       "      <td>...</td>\n",
       "      <td>...</td>\n",
       "      <td>...</td>\n",
       "      <td>...</td>\n",
       "      <td>...</td>\n",
       "    </tr>\n",
       "    <tr>\n",
       "      <td>77</td>\n",
       "      <td>1.04302</td>\n",
       "      <td>1.80577</td>\n",
       "      <td>1.47061</td>\n",
       "      <td>0.72117</td>\n",
       "      <td>1.50039</td>\n",
       "      <td>1.14913</td>\n",
       "      <td>0</td>\n",
       "    </tr>\n",
       "    <tr>\n",
       "      <td>78</td>\n",
       "      <td>1.79763</td>\n",
       "      <td>2.22003</td>\n",
       "      <td>1.40603</td>\n",
       "      <td>1.59752</td>\n",
       "      <td>2.05016</td>\n",
       "      <td>1.16443</td>\n",
       "      <td>1</td>\n",
       "    </tr>\n",
       "    <tr>\n",
       "      <td>79</td>\n",
       "      <td>2.11834</td>\n",
       "      <td>0.77014</td>\n",
       "      <td>2.01960</td>\n",
       "      <td>2.39515</td>\n",
       "      <td>0.88910</td>\n",
       "      <td>2.24452</td>\n",
       "      <td>1</td>\n",
       "    </tr>\n",
       "    <tr>\n",
       "      <td>80</td>\n",
       "      <td>1.42033</td>\n",
       "      <td>1.18439</td>\n",
       "      <td>1.47061</td>\n",
       "      <td>1.31493</td>\n",
       "      <td>1.04058</td>\n",
       "      <td>1.37153</td>\n",
       "      <td>0</td>\n",
       "    </tr>\n",
       "    <tr>\n",
       "      <td>81</td>\n",
       "      <td>0.98643</td>\n",
       "      <td>1.18439</td>\n",
       "      <td>1.56749</td>\n",
       "      <td>0.97903</td>\n",
       "      <td>1.23973</td>\n",
       "      <td>1.65687</td>\n",
       "      <td>0</td>\n",
       "    </tr>\n",
       "  </tbody>\n",
       "</table>\n",
       "<p>82 rows × 7 columns</p>\n",
       "</div>"
      ],
      "text/plain": [
       "    simplicity  fatalism  depression  adjsimp  adjfatal   adjdep labels\n",
       "0      0.92983   0.35589     0.59870  0.75934   0.10673  0.41865      2\n",
       "1      0.91097   1.18439     0.72787  0.72717   0.99915  0.51688      2\n",
       "2      0.53366  -0.05837     0.53411  0.62176   0.03811  0.70699      2\n",
       "3      0.74118   0.35589     0.56641  0.83522   0.42218  0.65639      2\n",
       "4      0.53366   0.77014     0.50182  0.47697   0.81423  0.53518      2\n",
       "..         ...       ...         ...      ...       ...      ...    ...\n",
       "77     1.04302   1.80577     1.47061  0.72117   1.50039  1.14913      0\n",
       "78     1.79763   2.22003     1.40603  1.59752   2.05016  1.16443      1\n",
       "79     2.11834   0.77014     2.01960  2.39515   0.88910  2.24452      1\n",
       "80     1.42033   1.18439     1.47061  1.31493   1.04058  1.37153      0\n",
       "81     0.98643   1.18439     1.56749  0.97903   1.23973  1.65687      0\n",
       "\n",
       "[82 rows x 7 columns]"
      ]
     },
     "execution_count": 27,
     "metadata": {},
     "output_type": "execute_result"
    }
   ],
   "source": [
    "# Adding output/clusters/labels dataset in original dataset\n",
    "\n",
    "df_labeled = myData.join(df_labels)\n",
    "df_labeled"
   ]
  },
  {
   "cell_type": "code",
   "execution_count": 28,
   "metadata": {},
   "outputs": [
    {
     "data": {
      "text/plain": [
       "2    37\n",
       "0    32\n",
       "1    13\n",
       "Name: labels, dtype: int64"
      ]
     },
     "execution_count": 28,
     "metadata": {},
     "output_type": "execute_result"
    }
   ],
   "source": [
    "df_labeled['labels'].value_counts()"
   ]
  },
  {
   "cell_type": "code",
   "execution_count": 30,
   "metadata": {},
   "outputs": [
    {
     "data": {
      "text/plain": [
       "2    45.121951\n",
       "0    39.024390\n",
       "1    15.853659\n",
       "Name: labels, dtype: float64"
      ]
     },
     "execution_count": 30,
     "metadata": {},
     "output_type": "execute_result"
    }
   ],
   "source": [
    "df_labeled['labels'].value_counts(normalize=True)*100"
   ]
  },
  {
   "cell_type": "markdown",
   "metadata": {},
   "source": [
    "### Working Model:\n",
    " K means algorithm uses \"Euclidean Distance\" to find distance between two points. \n",
    "    1. Randomly we select point based on Cluster number. For example if cluster number is 3, than we will select 3 different row from the dataset.\n",
    "    2. We compute euclidean distance for next datapoint.\n",
    "    3. Now we will check this new datapoint is colse to which cluster.\n",
    "    4. In this step, we will computer new controid by take last step datapoint.\n",
    "    5. Again, we will repeat step 2, 3 and 4.\n",
    "    \n",
    "   #### OR\n",
    "   - Step 1: Choose the number of clusters k\n",
    "   - Step 2: Select k random points from the data as centroids\n",
    "   - Step 3: Assign all the points to the closest cluster centroid\n",
    "   - Step 4: Recompute the centroids of newly formed clusters\n",
    "   - Step 5: Repeat steps 3 and 4\n"
   ]
  },
  {
   "cell_type": "markdown",
   "metadata": {},
   "source": [
    "#### What is Clustering?\n",
    "- Clustering is the process of dividing the entire data into groups (also known as clusters) based on the patterns in the data."
   ]
  },
  {
   "cell_type": "markdown",
   "metadata": {},
   "source": [
    "#### Properties of Clusters\n",
    "- Property 1: All the data points in a cluster should be similar to each other.\n",
    "- Property 2: The data points from different clusters should be as different as possible.\n"
   ]
  },
  {
   "cell_type": "markdown",
   "metadata": {},
   "source": [
    "### Use Case :\n",
    "- Customer Segmentation\n",
    "- Document Clustering\n",
    "- Image Segmentation\n",
    "- Recommendation Engines"
   ]
  },
  {
   "cell_type": "markdown",
   "metadata": {},
   "source": [
    "### Different Evaluation Metrics for Clustering\n",
    "1. Inertia\n",
    "2. Dunn Index"
   ]
  },
  {
   "cell_type": "markdown",
   "metadata": {},
   "source": [
    "##### Other points on K-Means Clustering\n",
    "\n",
    "- There is an algorithm that tries to minimize the distance of the points in a cluster with their centroid – the k-means clustering technique.\n",
    "- The main objective of the K-Means algorithm is to minimize the sum of distances between the points and their respective cluster centroid."
   ]
  },
  {
   "cell_type": "markdown",
   "metadata": {},
   "source": [
    "#### Stopping Criteria for K-Means Clustering\n",
    "1. Centroids of newly formed clusters do not change\n",
    "2. Points remain in the same cluster\n",
    "3. Maximum number of iterations are reached"
   ]
  },
  {
   "cell_type": "markdown",
   "metadata": {},
   "source": [
    "#### Challenges with the K-Means Clustering Algorithm\n",
    "1. One of the common challenges we face while working with K-Means is that the size of clusters is different. \n",
    "2. Another challenge with k-means is when the densities of the original points are different."
   ]
  },
  {
   "cell_type": "markdown",
   "metadata": {},
   "source": [
    "#### How to Choose the Right Number of Clusters in K-Means Clustering?\n",
    "- elbow curve, where the x-axis will represent the number of clusters and the y-axis will be an evaluation metric.\n",
    "- the cluster value where this decrease in inertia value becomes constant can be chosen as the right cluster value for our data."
   ]
  },
  {
   "cell_type": "code",
   "execution_count": 32,
   "metadata": {},
   "outputs": [
    {
     "data": {
      "text/plain": [
       "Text(0, 0.5, 'Inertia')"
      ]
     },
     "execution_count": 32,
     "metadata": {},
     "output_type": "execute_result"
    },
    {
     "data": {
      "image/png": "[encoded data removed]",
      "text/plain": [
       "<Figure size 864x432 with 1 Axes>"
      ]
     },
     "metadata": {
      "needs_background": "light"
     },
     "output_type": "display_data"
    }
   ],
   "source": [
    "# fitting multiple k-means algorithms and storing the values in an empty list\n",
    "SSE = []\n",
    "for cluster in range(1,20):\n",
    "    kmeans = KMeans(n_jobs = -1, n_clusters = cluster, init='k-means++')\n",
    "    kmeans.fit(myData)\n",
    "    SSE.append(kmeans.inertia_)\n",
    "\n",
    "# converting the results into a dataframe and plotting them\n",
    "frame = pd.DataFrame({'Cluster':range(1,20), 'SSE':SSE})\n",
    "plt.figure(figsize=(12,6))\n",
    "plt.plot(frame['Cluster'], frame['SSE'], marker='o')\n",
    "plt.xlabel('Number of clusters')\n",
    "plt.ylabel('Inertia')"
   ]
  },
  {
   "cell_type": "markdown",
   "metadata": {},
   "source": [
    "#### Conclusion: we can choose any number of clusters between 3 to 7."
   ]
  },
  {
   "cell_type": "markdown",
   "metadata": {},
   "source": [
    "#### Taking Number of Cluster = 5"
   ]
  },
  {
   "cell_type": "code",
   "execution_count": 34,
   "metadata": {},
   "outputs": [
    {
     "data": {
      "text/html": [
       "<div>\n",
       "<style scoped>\n",
       "    .dataframe tbody tr th:only-of-type {\n",
       "        vertical-align: middle;\n",
       "    }\n",
       "\n",
       "    .dataframe tbody tr th {\n",
       "        vertical-align: top;\n",
       "    }\n",
       "\n",
       "    .dataframe thead th {\n",
       "        text-align: right;\n",
       "    }\n",
       "</style>\n",
       "<table border=\"1\" class=\"dataframe\">\n",
       "  <thead>\n",
       "    <tr style=\"text-align: right;\">\n",
       "      <th></th>\n",
       "      <th>simplicity</th>\n",
       "      <th>fatalism</th>\n",
       "      <th>depression</th>\n",
       "      <th>adjsimp</th>\n",
       "      <th>adjfatal</th>\n",
       "      <th>adjdep</th>\n",
       "      <th>labels</th>\n",
       "    </tr>\n",
       "  </thead>\n",
       "  <tbody>\n",
       "    <tr>\n",
       "      <td>0</td>\n",
       "      <td>0.92983</td>\n",
       "      <td>0.35589</td>\n",
       "      <td>0.59870</td>\n",
       "      <td>0.75934</td>\n",
       "      <td>0.10673</td>\n",
       "      <td>0.41865</td>\n",
       "      <td>3</td>\n",
       "    </tr>\n",
       "    <tr>\n",
       "      <td>1</td>\n",
       "      <td>0.91097</td>\n",
       "      <td>1.18439</td>\n",
       "      <td>0.72787</td>\n",
       "      <td>0.72717</td>\n",
       "      <td>0.99915</td>\n",
       "      <td>0.51688</td>\n",
       "      <td>1</td>\n",
       "    </tr>\n",
       "    <tr>\n",
       "      <td>2</td>\n",
       "      <td>0.53366</td>\n",
       "      <td>-0.05837</td>\n",
       "      <td>0.53411</td>\n",
       "      <td>0.62176</td>\n",
       "      <td>0.03811</td>\n",
       "      <td>0.70699</td>\n",
       "      <td>3</td>\n",
       "    </tr>\n",
       "    <tr>\n",
       "      <td>3</td>\n",
       "      <td>0.74118</td>\n",
       "      <td>0.35589</td>\n",
       "      <td>0.56641</td>\n",
       "      <td>0.83522</td>\n",
       "      <td>0.42218</td>\n",
       "      <td>0.65639</td>\n",
       "      <td>3</td>\n",
       "    </tr>\n",
       "    <tr>\n",
       "      <td>4</td>\n",
       "      <td>0.53366</td>\n",
       "      <td>0.77014</td>\n",
       "      <td>0.50182</td>\n",
       "      <td>0.47697</td>\n",
       "      <td>0.81423</td>\n",
       "      <td>0.53518</td>\n",
       "      <td>1</td>\n",
       "    </tr>\n",
       "    <tr>\n",
       "      <td>...</td>\n",
       "      <td>...</td>\n",
       "      <td>...</td>\n",
       "      <td>...</td>\n",
       "      <td>...</td>\n",
       "      <td>...</td>\n",
       "      <td>...</td>\n",
       "      <td>...</td>\n",
       "    </tr>\n",
       "    <tr>\n",
       "      <td>77</td>\n",
       "      <td>1.04302</td>\n",
       "      <td>1.80577</td>\n",
       "      <td>1.47061</td>\n",
       "      <td>0.72117</td>\n",
       "      <td>1.50039</td>\n",
       "      <td>1.14913</td>\n",
       "      <td>0</td>\n",
       "    </tr>\n",
       "    <tr>\n",
       "      <td>78</td>\n",
       "      <td>1.79763</td>\n",
       "      <td>2.22003</td>\n",
       "      <td>1.40603</td>\n",
       "      <td>1.59752</td>\n",
       "      <td>2.05016</td>\n",
       "      <td>1.16443</td>\n",
       "      <td>2</td>\n",
       "    </tr>\n",
       "    <tr>\n",
       "      <td>79</td>\n",
       "      <td>2.11834</td>\n",
       "      <td>0.77014</td>\n",
       "      <td>2.01960</td>\n",
       "      <td>2.39515</td>\n",
       "      <td>0.88910</td>\n",
       "      <td>2.24452</td>\n",
       "      <td>2</td>\n",
       "    </tr>\n",
       "    <tr>\n",
       "      <td>80</td>\n",
       "      <td>1.42033</td>\n",
       "      <td>1.18439</td>\n",
       "      <td>1.47061</td>\n",
       "      <td>1.31493</td>\n",
       "      <td>1.04058</td>\n",
       "      <td>1.37153</td>\n",
       "      <td>0</td>\n",
       "    </tr>\n",
       "    <tr>\n",
       "      <td>81</td>\n",
       "      <td>0.98643</td>\n",
       "      <td>1.18439</td>\n",
       "      <td>1.56749</td>\n",
       "      <td>0.97903</td>\n",
       "      <td>1.23973</td>\n",
       "      <td>1.65687</td>\n",
       "      <td>0</td>\n",
       "    </tr>\n",
       "  </tbody>\n",
       "</table>\n",
       "<p>82 rows × 7 columns</p>\n",
       "</div>"
      ],
      "text/plain": [
       "    simplicity  fatalism  depression  adjsimp  adjfatal   adjdep labels\n",
       "0      0.92983   0.35589     0.59870  0.75934   0.10673  0.41865      3\n",
       "1      0.91097   1.18439     0.72787  0.72717   0.99915  0.51688      1\n",
       "2      0.53366  -0.05837     0.53411  0.62176   0.03811  0.70699      3\n",
       "3      0.74118   0.35589     0.56641  0.83522   0.42218  0.65639      3\n",
       "4      0.53366   0.77014     0.50182  0.47697   0.81423  0.53518      1\n",
       "..         ...       ...         ...      ...       ...      ...    ...\n",
       "77     1.04302   1.80577     1.47061  0.72117   1.50039  1.14913      0\n",
       "78     1.79763   2.22003     1.40603  1.59752   2.05016  1.16443      2\n",
       "79     2.11834   0.77014     2.01960  2.39515   0.88910  2.24452      2\n",
       "80     1.42033   1.18439     1.47061  1.31493   1.04058  1.37153      0\n",
       "81     0.98643   1.18439     1.56749  0.97903   1.23973  1.65687      0\n",
       "\n",
       "[82 rows x 7 columns]"
      ]
     },
     "execution_count": 34,
     "metadata": {},
     "output_type": "execute_result"
    }
   ],
   "source": [
    "kmeans = KMeans(n_clusters=5)\n",
    "kmeans.fit(myData)\n",
    "kmeans.labels_\n",
    "df_labels_cluster_5 = pd.DataFrame(kmeans.labels_, columns = ['labels'])\n",
    "df_labels_cluster_5['labels'] = df_labels_cluster_5['labels'].astype('category')\n",
    "\n",
    "df_labeled_cluster_5 = myData.join(df_labels_cluster_5)\n",
    "df_labeled_cluster_5"
   ]
  },
  {
   "cell_type": "code",
   "execution_count": 35,
   "metadata": {},
   "outputs": [
    {
     "data": {
      "text/plain": [
       "1    22\n",
       "4    18\n",
       "3    15\n",
       "0    15\n",
       "2    12\n",
       "Name: labels, dtype: int64"
      ]
     },
     "execution_count": 35,
     "metadata": {},
     "output_type": "execute_result"
    }
   ],
   "source": [
    "df_labeled_cluster_5['labels'].value_counts()"
   ]
  },
  {
   "cell_type": "code",
   "execution_count": 36,
   "metadata": {},
   "outputs": [
    {
     "data": {
      "text/plain": [
       "1    26.829268\n",
       "4    21.951220\n",
       "3    18.292683\n",
       "0    18.292683\n",
       "2    14.634146\n",
       "Name: labels, dtype: float64"
      ]
     },
     "execution_count": 36,
     "metadata": {},
     "output_type": "execute_result"
    }
   ],
   "source": [
    "df_labeled_cluster_5['labels'].value_counts(normalize=True)*100"
   ]
  },
  {
   "cell_type": "markdown",
   "metadata": {},
   "source": [
    "# End"
   ]
  }
 ],
 "metadata": {
  "kernelspec": {
   "display_name": "Python 3",
   "language": "python",
   "name": "python3"
  },
  "language_info": {
   "codemirror_mode": {
    "name": "ipython",
    "version": 3
   },
   "file_extension": ".py",
   "mimetype": "text/x-python",
   "name": "python",
   "nbconvert_exporter": "python",
   "pygments_lexer": "ipython3",
   "version": "3.7.4"
  }
 },
 "nbformat": 4,
 "nbformat_minor": 2
}
